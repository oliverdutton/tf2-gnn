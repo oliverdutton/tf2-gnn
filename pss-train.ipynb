{
 "cells": [
  {
   "cell_type": "markdown",
   "metadata": {
    "colab_type": "text",
    "id": "gPGM638XfIm0"
   },
   "source": [
    "# Colab"
   ]
  },
  {
   "cell_type": "code",
   "execution_count": null,
   "metadata": {
    "colab": {
     "base_uri": "https://localhost:8080/",
     "height": 122
    },
    "colab_type": "code",
    "executionInfo": {
     "elapsed": 16447,
     "status": "ok",
     "timestamp": 1594367281702,
     "user": {
      "displayName": "Ollie Dutton",
      "photoUrl": "",
      "userId": "12488752984225044712"
     },
     "user_tz": -120
    },
    "id": "YjjhXZZbA-5M",
    "outputId": "5ca07496-1261-417f-b68b-cd3a79d1ec11"
   },
   "outputs": [],
   "source": [
    "# from google.colab import drive\n",
    "# drive.mount('/content/gdrive')\n",
    "\n",
    "# %cd gdrive/My\\ Drive/Colab\\ Notebooks/gnn/sudoku-test\n",
    "\n",
    "# !rm -r ./tf2-gnn\n",
    "# !git clone --branch sudoku https://github.com/oliverdutton/tf2-gnn.git \n",
    "\n",
    "# !pip install ./tf2-gnn"
   ]
  },
  {
   "cell_type": "markdown",
   "metadata": {
    "colab_type": "text",
    "id": "6hreNIxefInK"
   },
   "source": [
    "# Imports"
   ]
  },
  {
   "cell_type": "code",
   "execution_count": null,
   "metadata": {
    "colab": {},
    "colab_type": "code",
    "id": "tTdHQwoNDyjI"
   },
   "outputs": [],
   "source": [
    "import tensorflow as tf\n",
    "import tf2_gnn as gnn\n",
    "import numpy as np\n",
    "from dpu_utils.utils import RichPath"
   ]
  },
  {
   "cell_type": "code",
   "execution_count": null,
   "metadata": {},
   "outputs": [],
   "source": [
    "# %load_ext autoreload\n",
    "# %autoreload 2"
   ]
  },
  {
   "cell_type": "markdown",
   "metadata": {
    "colab_type": "text",
    "id": "GQg2ZBRTfInP"
   },
   "source": [
    "# Dataset"
   ]
  },
  {
   "cell_type": "markdown",
   "metadata": {
    "colab_type": "text",
    "id": "PqcKNTMhq-zM"
   },
   "source": [
    "### Create dataset structure to load data into"
   ]
  },
  {
   "cell_type": "code",
   "execution_count": null,
   "metadata": {
    "colab": {
     "base_uri": "https://localhost:8080/",
     "height": 68
    },
    "colab_type": "code",
    "executionInfo": {
     "elapsed": 901,
     "status": "ok",
     "timestamp": 1594367427283,
     "user": {
      "displayName": "Ollie Dutton",
      "photoUrl": "",
      "userId": "12488752984225044712"
     },
     "user_tz": -120
    },
    "id": "TAOc8aRyDynI",
    "outputId": "fd4c1127-e9c2-41cb-9ba3-884337d4088a"
   },
   "outputs": [],
   "source": [
    "params = gnn.data.PSSDataset.get_default_hyperparameters()\n",
    "params['connectivity'] = 3\n",
    "params"
   ]
  },
  {
   "cell_type": "code",
   "execution_count": null,
   "metadata": {
    "colab": {},
    "colab_type": "code",
    "id": "kSmK2yKRG7wz"
   },
   "outputs": [],
   "source": [
    "params['max_nodes_per_batch'] = 1000000"
   ]
  },
  {
   "cell_type": "code",
   "execution_count": null,
   "metadata": {
    "colab": {},
    "colab_type": "code",
    "id": "0bMHNBkADyrm"
   },
   "outputs": [],
   "source": [
    "dataset = gnn.data.PSSDataset(params)"
   ]
  },
  {
   "cell_type": "markdown",
   "metadata": {
    "colab_type": "text",
    "id": "gwt3rQn6fInW"
   },
   "source": [
    "### Load the data"
   ]
  },
  {
   "cell_type": "code",
   "execution_count": null,
   "metadata": {
    "colab": {
     "base_uri": "https://localhost:8080/",
     "height": 34
    },
    "colab_type": "code",
    "executionInfo": {
     "elapsed": 2872,
     "status": "ok",
     "timestamp": 1594367439230,
     "user": {
      "displayName": "Ollie Dutton",
      "photoUrl": "",
      "userId": "12488752984225044712"
     },
     "user_tz": -120
    },
    "id": "27dgpM-WEsPf",
    "outputId": "191c4953-f17e-4130-f413-30dfa981dd1b"
   },
   "outputs": [],
   "source": [
    "!pwd"
   ]
  },
  {
   "cell_type": "code",
   "execution_count": null,
   "metadata": {
    "colab": {},
    "colab_type": "code",
    "id": "CRH3vaDdD6wv"
   },
   "outputs": [],
   "source": [
    "# path = RichPath.create('./data/')\n",
    "path = RichPath.create('/Users/personal/Documents/Sudoku/data/pss-data/')"
   ]
  },
  {
   "cell_type": "code",
   "execution_count": null,
   "metadata": {
    "colab": {},
    "colab_type": "code",
    "id": "8_IR3vgeEsox"
   },
   "outputs": [],
   "source": [
    "# dataset.load_data(path, folds_to_load=[gnn.DataFold.TRAIN])\n",
    "dataset.load_data(path)"
   ]
  },
  {
   "cell_type": "code",
   "execution_count": null,
   "metadata": {
    "colab": {},
    "colab_type": "code",
    "id": "x4cccEcpE9Qg"
   },
   "outputs": [],
   "source": [
    "tf_dataset = dataset.get_tensorflow_dataset(gnn.DataFold.TRAIN, use_worker_threads=False)"
   ]
  },
  {
   "cell_type": "markdown",
   "metadata": {
    "colab_type": "text",
    "id": "wBM3BqckfInc"
   },
   "source": [
    "# Build model"
   ]
  },
  {
   "cell_type": "code",
   "execution_count": null,
   "metadata": {
    "colab": {
     "base_uri": "https://localhost:8080/",
     "height": 493
    },
    "colab_type": "code",
    "executionInfo": {
     "elapsed": 1133,
     "status": "ok",
     "timestamp": 1594367808495,
     "user": {
      "displayName": "Ollie Dutton",
      "photoUrl": "",
      "userId": "12488752984225044712"
     },
     "user_tz": -120
    },
    "id": "NLzse0JMEyC5",
    "outputId": "17717570-3735-4100-ade6-06c6100a19f3"
   },
   "outputs": [],
   "source": [
    "params = gnn.models.NodeMulticlassTask.get_default_hyperparameters('gnn_edge_mlp')\n",
    "params['gnn_hidden_dim'] = 16\n",
    "params['gnn_num_edge_MLP_hidden_layers'] = 2\n",
    "params['gnn_num_layers'] = 2\n",
    "params['gnn_share_weights_between_mlps'] = False\n",
    "params[\"gnn_message_activation_function\"] = \"gelu\"\n",
    "\n",
    "params['gnn_dense_every_num_layers'] = -1\n",
    "params['gnn_residual_every_num_layers'] = 1e5\n",
    "params['gnn_global_exchange_every_num_layers'] = 1e5\n",
    "params['use_intermediate_gnn_results'] = False\n",
    "params['loss_at_every_layer'] = False\n",
    "params"
   ]
  },
  {
   "cell_type": "code",
   "execution_count": null,
   "metadata": {
    "colab": {},
    "colab_type": "code",
    "id": "bwTT0IeJE7OA"
   },
   "outputs": [],
   "source": [
    "model = gnn.models.PSSTask(params,dataset)"
   ]
  },
  {
   "cell_type": "code",
   "execution_count": null,
   "metadata": {
    "colab": {
     "base_uri": "https://localhost:8080/",
     "height": 204
    },
    "colab_type": "code",
    "executionInfo": {
     "elapsed": 1104,
     "status": "ok",
     "timestamp": 1594367808498,
     "user": {
      "displayName": "Ollie Dutton",
      "photoUrl": "",
      "userId": "12488752984225044712"
     },
     "user_tz": -120
    },
    "id": "BOeV393fGlAF",
    "outputId": "44f4a111-936f-43ba-e10f-37609a14d876"
   },
   "outputs": [],
   "source": [
    "# Build model\n",
    "input_shapes = dataset.get_batch_tf_data_description().batch_features_shapes\n",
    "model.build(input_shapes)\n",
    "\n",
    "# Inspect model\n",
    "# ly = model.layers[1]\n",
    "for ly in model.layers:\n",
    "    for v,w in zip(ly.variables, ly.get_weights()):\n",
    "        print(w.shape, v.name)"
   ]
  },
  {
   "cell_type": "code",
   "execution_count": null,
   "metadata": {
    "colab": {
     "base_uri": "https://localhost:8080/",
     "height": 221
    },
    "colab_type": "code",
    "executionInfo": {
     "elapsed": 2301,
     "status": "ok",
     "timestamp": 1594367809710,
     "user": {
      "displayName": "Ollie Dutton",
      "photoUrl": "",
      "userId": "12488752984225044712"
     },
     "user_tz": -120
    },
    "id": "mi1e4qlbFDDC",
    "outputId": "db6d90c4-34b5-4e4d-cbf9-4b85ac6d6ef9"
   },
   "outputs": [],
   "source": [
    "model.summary()"
   ]
  },
  {
   "cell_type": "markdown",
   "metadata": {},
   "source": [
    "# Load Model"
   ]
  },
  {
   "cell_type": "code",
   "execution_count": null,
   "metadata": {},
   "outputs": [],
   "source": [
    "# gnn.load_weights_verbosely(\n",
    "#     save_file='/Users/personal/Documents/Sudoku/tf2-gnn/best_models/pss_1.hdf5',\n",
    "#     model=model\n",
    "# )"
   ]
  },
  {
   "cell_type": "markdown",
   "metadata": {
    "colab_type": "text",
    "id": "9F36r_sqtY3y"
   },
   "source": [
    "# Train Model"
   ]
  },
  {
   "cell_type": "code",
   "execution_count": null,
   "metadata": {
    "colab": {},
    "colab_type": "code",
    "id": "hl3Hv1kroWFZ"
   },
   "outputs": [],
   "source": [
    "def log_info(x):\n",
    "  print(x)\n",
    "  open(\"./best_models/pss_1.txt\",\"a\").write(x+'\\n')"
   ]
  },
  {
   "cell_type": "code",
   "execution_count": null,
   "metadata": {
    "colab": {
     "base_uri": "https://localhost:8080/",
     "height": 1000
    },
    "colab_type": "code",
    "id": "yVaH4Ss7qkVj",
    "outputId": "f73196b5-80e6-42c4-d833-7ab9cf9ac98c"
   },
   "outputs": [],
   "source": [
    "gnn.train(\n",
    "    model, \n",
    "    dataset,    \n",
    "    log_fun=log_info,\n",
    "    run_id=0,\n",
    "    max_epochs=5,\n",
    "    patience=48,\n",
    "    save_dir='./',\n",
    "    quiet=False,\n",
    "    aml_run=None,\n",
    "    use_worker_threads=False,\n",
    ")"
   ]
  },
  {
   "cell_type": "code",
   "execution_count": null,
   "metadata": {},
   "outputs": [],
   "source": [
    "gnn.test(    \n",
    "    model, \n",
    "    dataset,    \n",
    "    log_fun=log_info,\n",
    "    use_worker_threads=False,\n",
    ")"
   ]
  },
  {
   "cell_type": "markdown",
   "metadata": {
    "colab_type": "text",
    "id": "tLyKsFN7pjbk"
   },
   "source": [
    "# Miscellaneous"
   ]
  },
  {
   "cell_type": "code",
   "execution_count": null,
   "metadata": {
    "colab": {},
    "colab_type": "code",
    "id": "d3TDWgkGfInl"
   },
   "outputs": [],
   "source": [
    "datum = list(tf_dataset.take(1))[0]"
   ]
  },
  {
   "cell_type": "code",
   "execution_count": null,
   "metadata": {
    "colab": {},
    "colab_type": "code",
    "id": "x2Ta4sXAfInm",
    "outputId": "9c96e887-7e1e-41cb-c78c-b10dcd81cd5b"
   },
   "outputs": [],
   "source": [
    "output = model.call(datum[0], training=False)"
   ]
  },
  {
   "cell_type": "code",
   "execution_count": null,
   "metadata": {
    "colab": {},
    "colab_type": "code",
    "id": "3vbEPQyAfInq",
    "outputId": "d048ade3-fafa-424c-bcc7-0a13c49bef93"
   },
   "outputs": [],
   "source": []
  },
  {
   "cell_type": "code",
   "execution_count": null,
   "metadata": {
    "pixiedust": {
     "displayParams": {}
    }
   },
   "outputs": [],
   "source": [
    "model.compute_task_metrics(input_shapes,output, datum[1])"
   ]
  },
  {
   "cell_type": "code",
   "execution_count": null,
   "metadata": {
    "colab": {},
    "colab_type": "code",
    "id": "cg3JlK_-y-th"
   },
   "outputs": [],
   "source": [
    "for i in [4,8,16,32,64,128,256]:\n",
    "    print(f\"\\n{i}\")\n",
    "    params['gnn_num_layers']=i\n",
    "    model = gnn.NodeMulticlassTask(params,dataset)\n",
    "    # Build model\n",
    "    input_shapes = dataset.get_batch_tf_data_description().batch_features_shapes\n",
    "    model.build(input_shapes)\n",
    "    # Load\n",
    "    gnn.load_weights_verbosely(\n",
    "        save_file='/Users/personal/Documents/PSS/tf2-gnn/best_models/colab_best.hdf5',\n",
    "        model=model\n",
    "    )\n",
    "    gnn.test(    \n",
    "    model, \n",
    "    dataset,    \n",
    "    log_fun=log_info,\n",
    "    use_worker_threads=False,\n",
    "    )"
   ]
  },
  {
   "cell_type": "markdown",
   "metadata": {},
   "source": [
    "# FiLM Model"
   ]
  },
  {
   "cell_type": "code",
   "execution_count": null,
   "metadata": {},
   "outputs": [],
   "source": [
    "params = gnn.models.NodeMulticlassTask.get_default_hyperparameters('GNN_FiLM')\n",
    "params['gnn_hidden_dim'] = 32\n",
    "params['gnn_num_edge_MLP_hidden_layers'] = 0\n",
    "params['gnn_num_layers'] = 4\n",
    "params['gnn_share_weights_between_mlps'] = False\n",
    "params[\"gnn_message_activation_function\"] = \"gelu\"\n",
    "\n",
    "params['gnn_dense_every_num_layers'] = 1e5\n",
    "params['gnn_residual_every_num_layers'] = 2\n",
    "params['gnn_global_exchange_every_num_layers'] = 1e5\n",
    "params['use_intermediate_gnn_results'] = False\n",
    "params['loss_at_every_layer'] = False\n",
    "params"
   ]
  },
  {
   "cell_type": "code",
   "execution_count": null,
   "metadata": {},
   "outputs": [],
   "source": [
    "model = gnn.NodeMulticlassTask(params,dataset)"
   ]
  },
  {
   "cell_type": "code",
   "execution_count": null,
   "metadata": {},
   "outputs": [],
   "source": [
    "# Build model\n",
    "input_shapes = dataset.get_batch_tf_data_description().batch_features_shapes\n",
    "model.build(input_shapes)\n",
    "\n",
    "# Inspect model\n",
    "# ly = model.layers[1]\n",
    "for ly in model.layers:\n",
    "    for v,w in zip(ly.variables, ly.get_weights()):\n",
    "        print(w.shape, v.name)"
   ]
  },
  {
   "cell_type": "code",
   "execution_count": null,
   "metadata": {},
   "outputs": [],
   "source": [
    "model.summary()"
   ]
  }
 ],
 "metadata": {
  "accelerator": "GPU",
  "colab": {
   "collapsed_sections": [],
   "name": "sudoku_train.ipynb",
   "provenance": [],
   "toc_visible": true
  },
  "kernelspec": {
   "display_name": "Python 3",
   "language": "python",
   "name": "python3"
  },
  "language_info": {
   "codemirror_mode": {
    "name": "ipython",
    "version": 3
   },
   "file_extension": ".py",
   "mimetype": "text/x-python",
   "name": "python",
   "nbconvert_exporter": "python",
   "pygments_lexer": "ipython3",
   "version": "3.8.3"
  }
 },
 "nbformat": 4,
 "nbformat_minor": 1
}
