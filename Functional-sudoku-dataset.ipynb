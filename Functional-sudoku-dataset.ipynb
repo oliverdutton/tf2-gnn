{
 "cells": [
  {
   "cell_type": "code",
   "execution_count": null,
   "metadata": {},
   "outputs": [],
   "source": [
    "import tensorflow as tf\n",
    "import tf2_gnn as gnn\n",
    "import numpy as np\n",
    "from dpu_utils.utils import RichPath"
   ]
  },
  {
   "cell_type": "markdown",
   "metadata": {},
   "source": [
    "# Sudoku"
   ]
  },
  {
   "cell_type": "code",
   "execution_count": null,
   "metadata": {},
   "outputs": [],
   "source": [
    "params = gnn.data.SudokuDataset.get_default_hyperparameters()"
   ]
  },
  {
   "cell_type": "code",
   "execution_count": null,
   "metadata": {},
   "outputs": [],
   "source": [
    "dataset = gnn.data.SudokuDataset(params)"
   ]
  },
  {
   "cell_type": "code",
   "execution_count": null,
   "metadata": {},
   "outputs": [],
   "source": [
    "path = RichPath.create('/Users/personal/Documents/Sudoku/recurrent-relational-networks_v2/tasks/sudoku/data/')"
   ]
  },
  {
   "cell_type": "code",
   "execution_count": null,
   "metadata": {},
   "outputs": [],
   "source": [
    "dataset.load_data(path, folds_to_load=[gnn.DataFold.VALIDATION])\n",
    "# dataset.load_data(path)"
   ]
  },
  {
   "cell_type": "code",
   "execution_count": null,
   "metadata": {},
   "outputs": [],
   "source": [
    "params = gnn.models.NodeMulticlassTask.get_default_hyperparameters('gnn_edge_mlp')\n",
    "params['gnn_hidden_dim'] = 96\n",
    "params['gnn_num_edge_MLP_hidden_layers'] = 0\n",
    "params['gnn_dense_every_num_layers'] = -1\n",
    "params['gnn_residual_every_num_layers'] = 1e5\n",
    "params['gnn_global_exchange_every_num_layers'] = 1e5\n",
    "params['gnn_num_layers'] = 2\n",
    "params['gnn_share_weights_between_mlps'] = True\n",
    "params['use_intermediate_gnn_results'] = True\n",
    "params"
   ]
  },
  {
   "cell_type": "code",
   "execution_count": null,
   "metadata": {},
   "outputs": [],
   "source": [
    "model = gnn.NodeMulticlassTask(params,dataset)"
   ]
  },
  {
   "cell_type": "code",
   "execution_count": null,
   "metadata": {},
   "outputs": [],
   "source": [
    "tf_dataset = dataset.get_tensorflow_dataset(gnn.DataFold.TRAIN, use_worker_threads=False)"
   ]
  },
  {
   "cell_type": "code",
   "execution_count": null,
   "metadata": {},
   "outputs": [],
   "source": [
    "model.run_one_epoch(tf_dataset)"
   ]
  },
  {
   "cell_type": "code",
   "execution_count": null,
   "metadata": {},
   "outputs": [],
   "source": [
    "model.summary()"
   ]
  },
  {
   "cell_type": "code",
   "execution_count": null,
   "metadata": {},
   "outputs": [],
   "source": [
    "dataset.get_batch_tf_data_description()"
   ]
  },
  {
   "cell_type": "markdown",
   "metadata": {},
   "source": [
    "# PPI"
   ]
  },
  {
   "cell_type": "code",
   "execution_count": null,
   "metadata": {},
   "outputs": [],
   "source": [
    "#PPI\n",
    "\n",
    "params = gnn.data.PPIDataset.get_default_hyperparameters()\n",
    "dataset = gnn.data.PPIDataset(params)\n",
    "\n",
    "from dpu_utils.utils import RichPath\n",
    "path = RichPath.create('/Users/personal/Downloads/ppi')\n",
    "\n",
    "dataset.load_data(path)\n",
    "\n",
    "params = gnn.models.NodeMulticlassTask.get_default_hyperparameters('gnn_edge_mlp')\n",
    "params['gnn_hidden_dim'] = 96\n",
    "params['gnn_num_edge_MLP_hidden_layers'] = 3\n",
    "\n",
    "model = gnn.NodeMulticlassTask(params,dataset)\n",
    "\n",
    "model.run_one_epoch(dataset.get_tensorflow_dataset(gnn.DataFold(0), use_worker_threads=False))"
   ]
  },
  {
   "cell_type": "markdown",
   "metadata": {},
   "source": [
    "# Misc"
   ]
  },
  {
   "cell_type": "code",
   "execution_count": null,
   "metadata": {},
   "outputs": [],
   "source": [
    "input_shapes = dataset.get_batch_tf_data_description().batch_features_shapes\n",
    "model.build(input_shapes)\n",
    "# model.layers[0].input_spec\n",
    "ly = model.layers[1]\n",
    "\n",
    "for v,w in zip(ly.variables, ly.get_weights()):\n",
    "    print(w.shape, v.name)"
   ]
  },
  {
   "cell_type": "code",
   "execution_count": null,
   "metadata": {},
   "outputs": [],
   "source": [
    "list(ly._mp_layers)"
   ]
  },
  {
   "cell_type": "code",
   "execution_count": null,
   "metadata": {},
   "outputs": [],
   "source": [
    "inputs = dataset.get_tensorflow_dataset(gnn.DataFold.VALIDATION, use_worker_threads=False)"
   ]
  },
  {
   "cell_type": "code",
   "execution_count": null,
   "metadata": {},
   "outputs": [],
   "source": [
    "input_1 = list(inputs.take(1))[0]"
   ]
  },
  {
   "cell_type": "code",
   "execution_count": null,
   "metadata": {},
   "outputs": [],
   "source": [
    "import pixiedust"
   ]
  },
  {
   "cell_type": "code",
   "execution_count": null,
   "metadata": {
    "pixiedust": {
     "displayParams": {}
    }
   },
   "outputs": [],
   "source": [
    "%pixie_debugger\n",
    "model.call(input_1[0], training=False)"
   ]
  },
  {
   "cell_type": "code",
   "execution_count": null,
   "metadata": {},
   "outputs": [],
   "source": [
    "model.call(input_1[0], training=False)"
   ]
  },
  {
   "cell_type": "code",
   "execution_count": null,
   "metadata": {},
   "outputs": [],
   "source": [
    "save_w = model.get_weights()"
   ]
  },
  {
   "cell_type": "code",
   "execution_count": null,
   "metadata": {},
   "outputs": [],
   "source": [
    "model.set_weights(save_w)"
   ]
  },
  {
   "cell_type": "code",
   "execution_count": null,
   "metadata": {},
   "outputs": [],
   "source": [
    "input_1[0]"
   ]
  },
  {
   "cell_type": "code",
   "execution_count": null,
   "metadata": {},
   "outputs": [],
   "source": [
    "import pixiedust"
   ]
  },
  {
   "cell_type": "code",
   "execution_count": null,
   "metadata": {},
   "outputs": [],
   "source": [
    "model.call(input_1[0], training=False, )"
   ]
  },
  {
   "cell_type": "code",
   "execution_count": null,
   "metadata": {},
   "outputs": [],
   "source": [
    "model.call(input_1[0], training=False)"
   ]
  },
  {
   "cell_type": "code",
   "execution_count": null,
   "metadata": {},
   "outputs": [],
   "source": [
    "model.trainable_weights"
   ]
  },
  {
   "cell_type": "code",
   "execution_count": null,
   "metadata": {},
   "outputs": [],
   "source": [
    "model.trainable"
   ]
  },
  {
   "cell_type": "code",
   "execution_count": null,
   "metadata": {},
   "outputs": [],
   "source": [
    "model.summary()"
   ]
  },
  {
   "cell_type": "code",
   "execution_count": null,
   "metadata": {},
   "outputs": [],
   "source": [
    "input_1.shape"
   ]
  },
  {
   "cell_type": "code",
   "execution_count": null,
   "metadata": {},
   "outputs": [],
   "source": []
  }
 ],
 "metadata": {
  "kernelspec": {
   "display_name": "Python 3.8.3 64-bit",
   "language": "python",
   "name": "python38364bitf1cb9da107d840b3a826f06359b25633"
  },
  "language_info": {
   "codemirror_mode": {
    "name": "ipython",
    "version": 3
   },
   "file_extension": ".py",
   "mimetype": "text/x-python",
   "name": "python",
   "nbconvert_exporter": "python",
   "pygments_lexer": "ipython3",
   "version": "3.8.3"
  }
 },
 "nbformat": 4,
 "nbformat_minor": 4
}
