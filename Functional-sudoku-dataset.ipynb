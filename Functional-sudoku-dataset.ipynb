{
 "cells": [
  {
   "cell_type": "code",
   "execution_count": 6,
   "metadata": {},
   "outputs": [],
   "source": [
    "import tensorflow as tf\n",
    "import tf2_gnn as gnn\n",
    "import numpy as np\n",
    "from dpu_utils.utils import RichPath"
   ]
  },
  {
   "cell_type": "markdown",
   "metadata": {},
   "source": [
    "# Sudoku"
   ]
  },
  {
   "cell_type": "code",
   "execution_count": 2,
   "metadata": {},
   "outputs": [],
   "source": [
    "params = gnn.data.SudokuDataset.get_default_hyperparameters()"
   ]
  },
  {
   "cell_type": "code",
   "execution_count": 3,
   "metadata": {},
   "outputs": [],
   "source": [
    "dataset = gnn.data.SudokuDataset(params)"
   ]
  },
  {
   "cell_type": "code",
   "execution_count": 4,
   "metadata": {},
   "outputs": [],
   "source": [
    "path = RichPath.create('/Users/personal/Documents/Sudoku/recurrent-relational-networks_v2/tasks/sudoku/data/')"
   ]
  },
  {
   "cell_type": "code",
   "execution_count": null,
   "metadata": {},
   "outputs": [],
   "source": [
    "dataset.load_data(path, folds_to_load=[gnn.DataFold.VALIDATION])\n",
    "# dataset.load_data(path)"
   ]
  },
  {
   "cell_type": "code",
   "execution_count": 5,
   "metadata": {},
   "outputs": [
    {
     "data": {
      "text/plain": [
       "{'gnn_aggregation_function': 'sum',\n",
       " 'gnn_message_activation_function': 'relu',\n",
       " 'gnn_hidden_dim': 96,\n",
       " 'gnn_use_target_state_as_input': True,\n",
       " 'gnn_normalize_by_num_incoming': False,\n",
       " 'gnn_num_edge_MLP_hidden_layers': 0,\n",
       " 'gnn_message_calculation_class': 'gnn_edge_mlp',\n",
       " 'gnn_initial_node_representation_activation': 'tanh',\n",
       " 'gnn_dense_intermediate_layer_activation': 'tanh',\n",
       " 'gnn_num_layers': 2,\n",
       " 'gnn_dense_every_num_layers': -1,\n",
       " 'gnn_residual_every_num_layers': 100000.0,\n",
       " 'gnn_use_inter_layer_layernorm': False,\n",
       " 'gnn_layer_input_dropout_rate': 0.0,\n",
       " 'gnn_global_exchange_mode': 'gru',\n",
       " 'gnn_global_exchange_every_num_layers': 100000.0,\n",
       " 'gnn_global_exchange_weighting_fun': 'softmax',\n",
       " 'gnn_global_exchange_num_heads': 4,\n",
       " 'gnn_global_exchange_dropout_rate': 0.2,\n",
       " 'gnn_share_weights_between_mlps': True,\n",
       " 'optimizer': 'Adam',\n",
       " 'learning_rate': 0.001,\n",
       " 'learning_rate_decay': 0.98,\n",
       " 'momentum': 0.85,\n",
       " 'gradient_clip_value': None,\n",
       " 'gradient_clip_global_norm': None,\n",
       " 'use_intermediate_gnn_results': True}"
      ]
     },
     "execution_count": 5,
     "metadata": {},
     "output_type": "execute_result"
    }
   ],
   "source": [
    "params = gnn.models.NodeMulticlassTask.get_default_hyperparameters('gnn_edge_mlp')\n",
    "params['gnn_hidden_dim'] = 96\n",
    "params['gnn_num_edge_MLP_hidden_layers'] = 0\n",
    "params['gnn_dense_every_num_layers'] = -1\n",
    "params['gnn_residual_every_num_layers'] = 1e5\n",
    "params['gnn_global_exchange_every_num_layers'] = 1e5\n",
    "params['gnn_num_layers'] = 2\n",
    "params['gnn_share_weights_between_mlps'] = True\n",
    "params['use_intermediate_gnn_results'] = True\n",
    "params[\"gnn_message_activation_function\"] = \"gelu\"\n",
    "params"
   ]
  },
  {
   "cell_type": "code",
   "execution_count": null,
   "metadata": {},
   "outputs": [],
   "source": [
    "model = gnn.NodeMulticlassTask(params,dataset)"
   ]
  },
  {
   "cell_type": "code",
   "execution_count": null,
   "metadata": {},
   "outputs": [],
   "source": [
    "tf_dataset = dataset.get_tensorflow_dataset(gnn.DataFold.TRAIN, use_worker_threads=False)"
   ]
  },
  {
   "cell_type": "code",
   "execution_count": null,
   "metadata": {},
   "outputs": [],
   "source": [
    "model.run_one_epoch(tf_dataset)"
   ]
  },
  {
   "cell_type": "code",
   "execution_count": null,
   "metadata": {},
   "outputs": [],
   "source": [
    "model.summary()"
   ]
  },
  {
   "cell_type": "code",
   "execution_count": null,
   "metadata": {},
   "outputs": [],
   "source": [
    "dataset.get_batch_tf_data_description()"
   ]
  },
  {
   "cell_type": "markdown",
   "metadata": {},
   "source": [
    "# PPI"
   ]
  },
  {
   "cell_type": "code",
   "execution_count": null,
   "metadata": {},
   "outputs": [],
   "source": [
    "#PPI\n",
    "\n",
    "params = gnn.data.PPIDataset.get_default_hyperparameters()\n",
    "dataset = gnn.data.PPIDataset(params)\n",
    "\n",
    "from dpu_utils.utils import RichPath\n",
    "path = RichPath.create('/Users/personal/Downloads/ppi')\n",
    "\n",
    "dataset.load_data(path)\n",
    "\n",
    "params = gnn.models.NodeMulticlassTask.get_default_hyperparameters('gnn_edge_mlp')\n",
    "params['gnn_hidden_dim'] = 96\n",
    "params['gnn_num_edge_MLP_hidden_layers'] = 3\n",
    "\n",
    "model = gnn.NodeMulticlassTask(params,dataset)\n",
    "\n",
    "model.run_one_epoch(dataset.get_tensorflow_dataset(gnn.DataFold(0), use_worker_threads=False))"
   ]
  },
  {
   "cell_type": "markdown",
   "metadata": {},
   "source": [
    "# Misc"
   ]
  },
  {
   "cell_type": "code",
   "execution_count": null,
   "metadata": {},
   "outputs": [],
   "source": [
    "input_shapes = dataset.get_batch_tf_data_description().batch_features_shapes\n",
    "model.build(input_shapes)\n",
    "# model.layers[0].input_spec\n",
    "ly = model.layers[1]\n",
    "\n",
    "for v,w in zip(ly.variables, ly.get_weights()):\n",
    "    print(w.shape, v.name)"
   ]
  },
  {
   "cell_type": "code",
   "execution_count": null,
   "metadata": {},
   "outputs": [],
   "source": [
    "list(ly._mp_layers)"
   ]
  },
  {
   "cell_type": "code",
   "execution_count": null,
   "metadata": {},
   "outputs": [],
   "source": [
    "inputs = dataset.get_tensorflow_dataset(gnn.DataFold.VALIDATION, use_worker_threads=False)"
   ]
  },
  {
   "cell_type": "code",
   "execution_count": null,
   "metadata": {},
   "outputs": [],
   "source": [
    "input_1 = list(inputs.take(1))[0]"
   ]
  },
  {
   "cell_type": "code",
   "execution_count": null,
   "metadata": {},
   "outputs": [],
   "source": [
    "import pixiedust"
   ]
  },
  {
   "cell_type": "code",
   "execution_count": null,
   "metadata": {
    "pixiedust": {
     "displayParams": {}
    }
   },
   "outputs": [],
   "source": [
    "%pixie_debugger\n",
    "model.call(input_1[0], training=False)"
   ]
  },
  {
   "cell_type": "code",
   "execution_count": null,
   "metadata": {},
   "outputs": [],
   "source": [
    "model.call(input_1[0], training=False)"
   ]
  },
  {
   "cell_type": "code",
   "execution_count": null,
   "metadata": {},
   "outputs": [],
   "source": [
    "save_w = model.get_weights()"
   ]
  },
  {
   "cell_type": "code",
   "execution_count": null,
   "metadata": {},
   "outputs": [],
   "source": [
    "model.set_weights(save_w)"
   ]
  },
  {
   "cell_type": "code",
   "execution_count": null,
   "metadata": {},
   "outputs": [],
   "source": [
    "input_1[0]"
   ]
  },
  {
   "cell_type": "code",
   "execution_count": null,
   "metadata": {},
   "outputs": [],
   "source": [
    "import pixiedust"
   ]
  },
  {
   "cell_type": "code",
   "execution_count": null,
   "metadata": {},
   "outputs": [],
   "source": [
    "model.call(input_1[0], training=False, )"
   ]
  },
  {
   "cell_type": "code",
   "execution_count": null,
   "metadata": {},
   "outputs": [],
   "source": [
    "model.call(input_1[0], training=False)"
   ]
  },
  {
   "cell_type": "code",
   "execution_count": null,
   "metadata": {},
   "outputs": [],
   "source": [
    "model.trainable_weights"
   ]
  },
  {
   "cell_type": "code",
   "execution_count": null,
   "metadata": {},
   "outputs": [],
   "source": [
    "model.trainable"
   ]
  },
  {
   "cell_type": "code",
   "execution_count": null,
   "metadata": {},
   "outputs": [],
   "source": [
    "model.summary()"
   ]
  },
  {
   "cell_type": "code",
   "execution_count": null,
   "metadata": {},
   "outputs": [],
   "source": [
    "input_1.shape"
   ]
  },
  {
   "cell_type": "code",
   "execution_count": 7,
   "metadata": {},
   "outputs": [
    {
     "ename": "NameError",
     "evalue": "name 'model' is not defined",
     "output_type": "error",
     "traceback": [
      "\u001b[0;31m---------------------------------------------------------------------------\u001b[0m",
      "\u001b[0;31mNameError\u001b[0m                                 Traceback (most recent call last)",
      "\u001b[0;32m<ipython-input-7-1f8a688cae5d>\u001b[0m in \u001b[0;36m<module>\u001b[0;34m\u001b[0m\n\u001b[0;32m----> 1\u001b[0;31m \u001b[0mmodel\u001b[0m\u001b[0;34m\u001b[0m\u001b[0;34m\u001b[0m\u001b[0m\n\u001b[0m",
      "\u001b[0;31mNameError\u001b[0m: name 'model' is not defined"
     ]
    }
   ],
   "source": [
    "model"
   ]
  },
  {
   "cell_type": "code",
   "execution_count": null,
   "metadata": {},
   "outputs": [],
   "source": []
  }
 ],
 "metadata": {
  "kernelspec": {
   "display_name": "Python 3.8.3 64-bit",
   "language": "python",
   "name": "python38364bitf1cb9da107d840b3a826f06359b25633"
  },
  "language_info": {
   "codemirror_mode": {
    "name": "ipython",
    "version": 3
   },
   "file_extension": ".py",
   "mimetype": "text/x-python",
   "name": "python",
   "nbconvert_exporter": "python",
   "pygments_lexer": "ipython3",
   "version": "3.8.3"
  }
 },
 "nbformat": 4,
 "nbformat_minor": 4
}
