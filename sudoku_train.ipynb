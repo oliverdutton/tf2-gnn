{
 "cells": [
  {
   "cell_type": "markdown",
   "metadata": {
    "colab_type": "text",
    "id": "gPGM638XfIm0"
   },
   "source": [
    "# Colab"
   ]
  },
  {
   "cell_type": "code",
   "execution_count": null,
   "metadata": {
    "colab": {
     "base_uri": "https://localhost:8080/",
     "height": 122
    },
    "colab_type": "code",
    "executionInfo": {
     "elapsed": 16447,
     "status": "ok",
     "timestamp": 1594367281702,
     "user": {
      "displayName": "Ollie Dutton",
      "photoUrl": "",
      "userId": "12488752984225044712"
     },
     "user_tz": -120
    },
    "id": "YjjhXZZbA-5M",
    "outputId": "5ca07496-1261-417f-b68b-cd3a79d1ec11"
   },
   "outputs": [],
   "source": [
    "# from google.colab import drive\n",
    "# drive.mount('/content/gdrive')\n",
    "\n",
    "# %cd gdrive/My\\ Drive/Colab\\ Notebooks/gnn/sudoku-test\n",
    "\n",
    "# !rm -r ./tf2-gnn\n",
    "# !git clone --branch sudoku https://github.com/oliverdutton/tf2-gnn.git \n",
    "\n",
    "# !pip install ./tf2-gnn"
   ]
  },
  {
   "cell_type": "markdown",
   "metadata": {
    "colab_type": "text",
    "id": "6hreNIxefInK"
   },
   "source": [
    "# Imports"
   ]
  },
  {
   "cell_type": "code",
   "execution_count": 1,
   "metadata": {
    "colab": {},
    "colab_type": "code",
    "id": "tTdHQwoNDyjI"
   },
   "outputs": [],
   "source": [
    "import tensorflow as tf\n",
    "import tf2_gnn as gnn\n",
    "import numpy as np\n",
    "from dpu_utils.utils import RichPath"
   ]
  },
  {
   "cell_type": "code",
   "execution_count": 2,
   "metadata": {},
   "outputs": [],
   "source": [
    "%load_ext autoreload\n",
    "%autoreload 2"
   ]
  },
  {
   "cell_type": "markdown",
   "metadata": {
    "colab_type": "text",
    "id": "GQg2ZBRTfInP"
   },
   "source": [
    "# Dataset"
   ]
  },
  {
   "cell_type": "markdown",
   "metadata": {
    "colab_type": "text",
    "id": "PqcKNTMhq-zM"
   },
   "source": [
    "### Create dataset structure to load data into"
   ]
  },
  {
   "cell_type": "code",
   "execution_count": 3,
   "metadata": {
    "colab": {
     "base_uri": "https://localhost:8080/",
     "height": 68
    },
    "colab_type": "code",
    "executionInfo": {
     "elapsed": 901,
     "status": "ok",
     "timestamp": 1594367427283,
     "user": {
      "displayName": "Ollie Dutton",
      "photoUrl": "",
      "userId": "12488752984225044712"
     },
     "user_tz": -120
    },
    "id": "TAOc8aRyDynI",
    "outputId": "fd4c1127-e9c2-41cb-9ba3-884337d4088a"
   },
   "outputs": [
    {
     "data": {
      "text/plain": [
       "{'max_nodes_per_batch': 2700,\n",
       " 'add_self_loop_edges': True,\n",
       " 'tie_fwd_bkwd_edges': True}"
      ]
     },
     "execution_count": 3,
     "metadata": {},
     "output_type": "execute_result"
    }
   ],
   "source": [
    "params = gnn.data.SudokuDataset.get_default_hyperparameters()\n",
    "params"
   ]
  },
  {
   "cell_type": "code",
   "execution_count": 4,
   "metadata": {
    "colab": {},
    "colab_type": "code",
    "id": "kSmK2yKRG7wz"
   },
   "outputs": [],
   "source": [
    "params['max_nodes_per_batch'] = 2600"
   ]
  },
  {
   "cell_type": "code",
   "execution_count": 5,
   "metadata": {
    "colab": {},
    "colab_type": "code",
    "id": "0bMHNBkADyrm"
   },
   "outputs": [],
   "source": [
    "dataset = gnn.data.SudokuDataset(params)"
   ]
  },
  {
   "cell_type": "markdown",
   "metadata": {
    "colab_type": "text",
    "id": "gwt3rQn6fInW"
   },
   "source": [
    "### Load the data"
   ]
  },
  {
   "cell_type": "code",
   "execution_count": 6,
   "metadata": {
    "colab": {
     "base_uri": "https://localhost:8080/",
     "height": 34
    },
    "colab_type": "code",
    "executionInfo": {
     "elapsed": 2872,
     "status": "ok",
     "timestamp": 1594367439230,
     "user": {
      "displayName": "Ollie Dutton",
      "photoUrl": "",
      "userId": "12488752984225044712"
     },
     "user_tz": -120
    },
    "id": "27dgpM-WEsPf",
    "outputId": "191c4953-f17e-4130-f413-30dfa981dd1b"
   },
   "outputs": [
    {
     "name": "stdout",
     "output_type": "stream",
     "text": [
      "/Users/personal/Documents/Sudoku/tf2-gnn\r\n"
     ]
    }
   ],
   "source": [
    "!pwd"
   ]
  },
  {
   "cell_type": "code",
   "execution_count": 7,
   "metadata": {
    "colab": {},
    "colab_type": "code",
    "id": "CRH3vaDdD6wv"
   },
   "outputs": [],
   "source": [
    "# path = RichPath.create('./data/')\n",
    "path = RichPath.create('/Users/personal/Documents/Sudoku/data/rrn-mini-data')"
   ]
  },
  {
   "cell_type": "code",
   "execution_count": 8,
   "metadata": {
    "colab": {},
    "colab_type": "code",
    "id": "8_IR3vgeEsox"
   },
   "outputs": [],
   "source": [
    "dataset.load_data(path)"
   ]
  },
  {
   "cell_type": "code",
   "execution_count": 9,
   "metadata": {
    "colab": {},
    "colab_type": "code",
    "id": "x4cccEcpE9Qg"
   },
   "outputs": [],
   "source": [
    "tf_dataset = dataset.get_tensorflow_dataset(gnn.DataFold.TRAIN, use_worker_threads=False)"
   ]
  },
  {
   "cell_type": "markdown",
   "metadata": {
    "colab_type": "text",
    "id": "wBM3BqckfInc"
   },
   "source": [
    "# Build model"
   ]
  },
  {
   "cell_type": "code",
   "execution_count": 10,
   "metadata": {
    "colab": {
     "base_uri": "https://localhost:8080/",
     "height": 493
    },
    "colab_type": "code",
    "executionInfo": {
     "elapsed": 1133,
     "status": "ok",
     "timestamp": 1594367808495,
     "user": {
      "displayName": "Ollie Dutton",
      "photoUrl": "",
      "userId": "12488752984225044712"
     },
     "user_tz": -120
    },
    "id": "NLzse0JMEyC5",
    "outputId": "17717570-3735-4100-ade6-06c6100a19f3"
   },
   "outputs": [
    {
     "data": {
      "text/plain": [
       "{'gnn_aggregation_function': 'sum',\n",
       " 'gnn_message_activation_function': 'gelu',\n",
       " 'gnn_hidden_dim': 96,\n",
       " 'gnn_use_target_state_as_input': True,\n",
       " 'gnn_normalize_by_num_incoming': False,\n",
       " 'gnn_num_edge_MLP_hidden_layers': 3,\n",
       " 'gnn_message_calculation_class': 'gnn_edge_mlp',\n",
       " 'gnn_initial_node_representation_activation': 'tanh',\n",
       " 'gnn_dense_intermediate_layer_activation': 'tanh',\n",
       " 'gnn_num_layers': 16,\n",
       " 'gnn_dense_every_num_layers': -1,\n",
       " 'gnn_residual_every_num_layers': 100000.0,\n",
       " 'gnn_use_inter_layer_layernorm': False,\n",
       " 'gnn_layer_input_dropout_rate': 0.0,\n",
       " 'gnn_global_exchange_mode': 'gru',\n",
       " 'gnn_global_exchange_every_num_layers': 100000.0,\n",
       " 'gnn_global_exchange_weighting_fun': 'softmax',\n",
       " 'gnn_global_exchange_num_heads': 4,\n",
       " 'gnn_global_exchange_dropout_rate': 0.2,\n",
       " 'gnn_share_weights_between_mlps': True,\n",
       " 'optimizer': 'Adam',\n",
       " 'learning_rate': 0.001,\n",
       " 'learning_rate_decay': 0.98,\n",
       " 'momentum': 0.85,\n",
       " 'gradient_clip_value': None,\n",
       " 'gradient_clip_global_norm': None,\n",
       " 'use_intermediate_gnn_results': True,\n",
       " 'loss_at_every_layer': True}"
      ]
     },
     "execution_count": 10,
     "metadata": {},
     "output_type": "execute_result"
    }
   ],
   "source": [
    "params = gnn.models.NodeMulticlassTask.get_default_hyperparameters('gnn_edge_mlp')\n",
    "params['gnn_hidden_dim'] = 96\n",
    "params['gnn_num_edge_MLP_hidden_layers'] = 3\n",
    "params['gnn_num_layers'] = 16\n",
    "params['gnn_share_weights_between_mlps'] = True\n",
    "params[\"gnn_message_activation_function\"] = \"gelu\"\n",
    "\n",
    "params['gnn_dense_every_num_layers'] = -1\n",
    "params['gnn_residual_every_num_layers'] = 1e5\n",
    "params['gnn_global_exchange_every_num_layers'] = 1e5\n",
    "params['use_intermediate_gnn_results'] = True\n",
    "params['loss_at_every_layer'] = True\n",
    "params"
   ]
  },
  {
   "cell_type": "code",
   "execution_count": 11,
   "metadata": {
    "colab": {},
    "colab_type": "code",
    "id": "bwTT0IeJE7OA"
   },
   "outputs": [],
   "source": [
    "model = gnn.NodeMulticlassTask(params,dataset)"
   ]
  },
  {
   "cell_type": "code",
   "execution_count": 12,
   "metadata": {
    "colab": {
     "base_uri": "https://localhost:8080/",
     "height": 204
    },
    "colab_type": "code",
    "executionInfo": {
     "elapsed": 1104,
     "status": "ok",
     "timestamp": 1594367808498,
     "user": {
      "displayName": "Ollie Dutton",
      "photoUrl": "",
      "userId": "12488752984225044712"
     },
     "user_tz": -120
    },
    "id": "BOeV393fGlAF",
    "outputId": "44f4a111-936f-43ba-e10f-37609a14d876"
   },
   "outputs": [
    {
     "name": "stdout",
     "output_type": "stream",
     "text": [
      "(96, 9) NodeMulticlassTask/projection_to_classes/kernel:0\n",
      "(9,) NodeMulticlassTask/projection_to_classes/bias:0\n",
      "(192, 96) GNN_Edge_MLP_GNN/Layer_0/MessagePassing/edge_type_0/MLP_dense_layer_0/kernel:0\n",
      "(96, 96) GNN_Edge_MLP_GNN/Layer_0/MessagePassing/edge_type_0/MLP_dense_layer_1/kernel:0\n",
      "(96, 96) GNN_Edge_MLP_GNN/Layer_0/MessagePassing/edge_type_0/MLP_dense_layer_2/kernel:0\n",
      "(96, 96) GNN_Edge_MLP_GNN/Layer_0/MessagePassing/edge_type_0/MLP_final_layer/kernel:0\n",
      "(192, 96) GNN_Edge_MLP_GNN/Layer_0/MessagePassing/edge_type_1/MLP_dense_layer_0/kernel:0\n",
      "(96, 96) GNN_Edge_MLP_GNN/Layer_0/MessagePassing/edge_type_1/MLP_dense_layer_1/kernel:0\n",
      "(96, 96) GNN_Edge_MLP_GNN/Layer_0/MessagePassing/edge_type_1/MLP_dense_layer_2/kernel:0\n",
      "(96, 96) GNN_Edge_MLP_GNN/Layer_0/MessagePassing/edge_type_1/MLP_final_layer/kernel:0\n",
      "(10, 96) GNN_Edge_MLP_GNN/gnn_initial_node_projection/kernel:0\n"
     ]
    }
   ],
   "source": [
    "# Build model\n",
    "input_shapes = dataset.get_batch_tf_data_description().batch_features_shapes\n",
    "model.build(input_shapes)\n",
    "\n",
    "# Inspect model\n",
    "# ly = model.layers[1]\n",
    "for ly in model.layers:\n",
    "    for v,w in zip(ly.variables, ly.get_weights()):\n",
    "        print(w.shape, v.name)"
   ]
  },
  {
   "cell_type": "code",
   "execution_count": 13,
   "metadata": {
    "colab": {
     "base_uri": "https://localhost:8080/",
     "height": 221
    },
    "colab_type": "code",
    "executionInfo": {
     "elapsed": 2301,
     "status": "ok",
     "timestamp": 1594367809710,
     "user": {
      "displayName": "Ollie Dutton",
      "photoUrl": "",
      "userId": "12488752984225044712"
     },
     "user_tz": -120
    },
    "id": "mi1e4qlbFDDC",
    "outputId": "db6d90c4-34b5-4e4d-cbf9-4b85ac6d6ef9"
   },
   "outputs": [
    {
     "name": "stdout",
     "output_type": "stream",
     "text": [
      "Model: \"node_multiclass_task\"\n",
      "_________________________________________________________________\n",
      "Layer (type)                 Output Shape              Param #   \n",
      "=================================================================\n",
      "dense (Dense)                multiple                  873       \n",
      "_________________________________________________________________\n",
      "gnn (GNN)                    multiple                  93120     \n",
      "=================================================================\n",
      "Total params: 93,993\n",
      "Trainable params: 93,993\n",
      "Non-trainable params: 0\n",
      "_________________________________________________________________\n"
     ]
    }
   ],
   "source": [
    "model.summary()"
   ]
  },
  {
   "cell_type": "markdown",
   "metadata": {},
   "source": [
    "# Load Model"
   ]
  },
  {
   "cell_type": "code",
   "execution_count": 15,
   "metadata": {},
   "outputs": [],
   "source": [
    "gnn.load_weights_verbosely(\n",
    "    save_file='/Users/personal/Documents/Sudoku/tf2-gnn/best_models/colab_best.hdf5',\n",
    "    model=model\n",
    ")"
   ]
  },
  {
   "cell_type": "markdown",
   "metadata": {
    "colab_type": "text",
    "id": "9F36r_sqtY3y"
   },
   "source": [
    "# Train Model"
   ]
  },
  {
   "cell_type": "code",
   "execution_count": 16,
   "metadata": {
    "colab": {},
    "colab_type": "code",
    "id": "hl3Hv1kroWFZ"
   },
   "outputs": [],
   "source": [
    "def log_info(x):\n",
    "  print(x)\n",
    "  open(\"./best_models/log.txt\",\"a\").write(x+'\\n')"
   ]
  },
  {
   "cell_type": "code",
   "execution_count": 17,
   "metadata": {
    "colab": {
     "base_uri": "https://localhost:8080/",
     "height": 1000
    },
    "colab_type": "code",
    "id": "yVaH4Ss7qkVj",
    "outputId": "f73196b5-80e6-42c4-d833-7ab9cf9ac98c"
   },
   "outputs": [
    {
     "name": "stderr",
     "output_type": "stream",
     "text": [
      "/Users/personal/miniconda3/envs/rrn_tf2/lib/python3.8/site-packages/tensorflow/python/framework/indexed_slices.py:433: UserWarning: Converting sparse IndexedSlices to a dense Tensor of unknown shape. This may consume a large amount of memory.\n",
      "  warnings.warn(\n"
     ]
    },
    {
     "name": "stdout",
     "output_type": "stream",
     "text": [
      "\u001b[KInitial valid metric: Avg DigitAccuracy: 0.969, AvgSudokuAccuracy: 0.815, Avg MicroF1: 0.970.per sec = 0.47818\n",
      "   (Stored model metadata to ./4_best.pkl and weights to ./4_best.hdf5)\n",
      "== Epoch 1\n",
      "\u001b[K Train:  0.0213 loss | Avg DigitAccuracy: 0.950, AvgSudokuAccuracy: 0.685, Avg MicroF1: 0.951 | 4.08 graphs/s1\n",
      "\u001b[K Valid:  0.0201 loss | Avg DigitAccuracy: 0.958, AvgSudokuAccuracy: 0.755, Avg MicroF1: 0.959 | 23.30 graphs/s\n"
     ]
    },
    {
     "data": {
      "text/plain": [
       "'./4_best.pkl'"
      ]
     },
     "execution_count": 17,
     "metadata": {},
     "output_type": "execute_result"
    }
   ],
   "source": [
    "gnn.train(\n",
    "    model, \n",
    "    dataset,    \n",
    "    log_fun=log_info,\n",
    "    run_id=4,\n",
    "    max_epochs=1,\n",
    "    patience=48,\n",
    "    save_dir='./',\n",
    "    quiet=False,\n",
    "    aml_run=None,\n",
    "    use_worker_threads=False,\n",
    ")"
   ]
  },
  {
   "cell_type": "code",
   "execution_count": 20,
   "metadata": {},
   "outputs": [
    {
     "name": "stdout",
     "output_type": "stream",
     "text": [
      "== Running on test dataset\n",
      "\u001b[KAvg DigitAccuracy: 0.953, AvgSudokuAccuracy: 0.748, Avg MicroF1: 0.955ss = 0.04893  |  Steps per sec = 0.69353\n"
     ]
    }
   ],
   "source": [
    "gnn.test(    \n",
    "    model, \n",
    "    dataset,    \n",
    "    log_fun=log_info,\n",
    "    use_worker_threads=False,\n",
    ")"
   ]
  },
  {
   "cell_type": "markdown",
   "metadata": {
    "colab_type": "text",
    "id": "tLyKsFN7pjbk"
   },
   "source": [
    "# Miscellaneous"
   ]
  },
  {
   "cell_type": "code",
   "execution_count": null,
   "metadata": {
    "colab": {},
    "colab_type": "code",
    "id": "d3TDWgkGfInl"
   },
   "outputs": [],
   "source": [
    "datum = list(tf_dataset.take(1))[0]"
   ]
  },
  {
   "cell_type": "code",
   "execution_count": null,
   "metadata": {
    "colab": {},
    "colab_type": "code",
    "id": "x2Ta4sXAfInm",
    "outputId": "9c96e887-7e1e-41cb-c78c-b10dcd81cd5b"
   },
   "outputs": [],
   "source": [
    "model.call(datum[0], training=False)"
   ]
  },
  {
   "cell_type": "code",
   "execution_count": null,
   "metadata": {
    "colab": {},
    "colab_type": "code",
    "id": "Ts2e6NFIfIno"
   },
   "outputs": [],
   "source": [
    "w = model.get_weights()"
   ]
  },
  {
   "cell_type": "code",
   "execution_count": null,
   "metadata": {
    "colab": {},
    "colab_type": "code",
    "id": "Vck5YZPlfInp"
   },
   "outputs": [],
   "source": [
    "model.set_weights(w)"
   ]
  },
  {
   "cell_type": "code",
   "execution_count": null,
   "metadata": {
    "colab": {},
    "colab_type": "code",
    "id": "3vbEPQyAfInq",
    "outputId": "d048ade3-fafa-424c-bcc7-0a13c49bef93"
   },
   "outputs": [],
   "source": [
    "datum[1]"
   ]
  },
  {
   "cell_type": "code",
   "execution_count": null,
   "metadata": {
    "colab": {
     "base_uri": "https://localhost:8080/",
     "height": 34
    },
    "colab_type": "code",
    "executionInfo": {
     "elapsed": 877,
     "status": "ok",
     "timestamp": 1594296935975,
     "user": {
      "displayName": "Ollie Dutton",
      "photoUrl": "",
      "userId": "12488752984225044712"
     },
     "user_tz": -120
    },
    "id": "qRrkGdMnfInr",
    "outputId": "b88f92cf-e241-4ed7-fb49-99b7b781b9a1"
   },
   "outputs": [],
   "source": []
  },
  {
   "cell_type": "code",
   "execution_count": null,
   "metadata": {
    "colab": {
     "base_uri": "https://localhost:8080/",
     "height": 164
    },
    "colab_type": "code",
    "executionInfo": {
     "elapsed": 2083,
     "status": "error",
     "timestamp": 1594367180268,
     "user": {
      "displayName": "Ollie Dutton",
      "photoUrl": "",
      "userId": "12488752984225044712"
     },
     "user_tz": -120
    },
    "id": "JaZC-1Z8gKJL",
    "outputId": "8336fd73-f8b6-4ba4-c47c-ef35139f20e4"
   },
   "outputs": [],
   "source": [
    "ly = model.layers[1]"
   ]
  },
  {
   "cell_type": "code",
   "execution_count": null,
   "metadata": {
    "colab": {
     "base_uri": "https://localhost:8080/",
     "height": 34
    },
    "colab_type": "code",
    "executionInfo": {
     "elapsed": 484,
     "status": "ok",
     "timestamp": 1594301929862,
     "user": {
      "displayName": "Ollie Dutton",
      "photoUrl": "",
      "userId": "12488752984225044712"
     },
     "user_tz": -120
    },
    "id": "OzMUfEytqzwY",
    "outputId": "b28b171c-f9ef-4194-8298-a09901bc443c"
   },
   "outputs": [],
   "source": []
  },
  {
   "cell_type": "code",
   "execution_count": 22,
   "metadata": {
    "colab": {},
    "colab_type": "code",
    "id": "cg3JlK_-y-th"
   },
   "outputs": [
    {
     "name": "stdout",
     "output_type": "stream",
     "text": [
      "\n",
      "4\n",
      "== Running on test dataset\n"
     ]
    },
    {
     "name": "stderr",
     "output_type": "stream",
     "text": [
      "/Users/personal/miniconda3/envs/rrn_tf2/lib/python3.8/site-packages/tensorflow/python/framework/indexed_slices.py:433: UserWarning: Converting sparse IndexedSlices to a dense Tensor of unknown shape. This may consume a large amount of memory.\n",
      "  warnings.warn(\n"
     ]
    },
    {
     "name": "stdout",
     "output_type": "stream",
     "text": [
      "\u001b[KAvgDigitAccuracy: 0.816, AvgSudokuAccuracy: 0.017, Avg MicroF1: 0.820oss = 0.08775  |  Steps per sec = 1.87278\n",
      "\n",
      "8\n",
      "== Running on test dataset\n",
      "\u001b[KAvgDigitAccuracy: 0.918, AvgSudokuAccuracy: 0.438, Avg MicroF1: 0.920oss = 0.06689  |  Steps per sec = 0.99738\n",
      "\n",
      "16\n",
      "== Running on test dataset\n",
      "\u001b[KAvgDigitAccuracy: 0.966, AvgSudokuAccuracy: 0.800, Avg MicroF1: 0.967oss = 0.05156  |  Steps per sec = 0.50819\n",
      "\n",
      "32\n",
      "== Running on test dataset\n",
      "\u001b[KStep:   12  |  Epoch graph avg. loss = 0.01520  |  Batch graph avg. loss = 0.04987  |  Steps per sec = 0.25319AvgDigitAccuracy: 0.971, AvgSudokuAccuracy: 0.877, Avg MicroF1: 0.972\n",
      "\n",
      "64\n",
      "== Running on test dataset\n",
      "\u001b[KStep:   12  |  Epoch graph avg. loss = 0.02970  |  Batch graph avg. loss = 0.16383  |  Steps per sec = 0.09314AvgDigitAccuracy: 0.965, AvgSudokuAccuracy: 0.865, Avg MicroF1: 0.966\n",
      "\n",
      "128\n",
      "== Running on test dataset\n",
      "\u001b[KStep:   12  |  Epoch graph avg. loss = 548414100464467968.00000  |  Batch graph avg. loss = 1.71314  |  Steps per sec = 0.037261 per sec = 0.00000AvgDigitAccuracy: 0.963, AvgSudokuAccuracy: 0.849, Avg MicroF1: 0.964\n",
      "\n",
      "256\n",
      "== Running on test dataset\n",
      "   Step:    0  |  Epoch graph avg. loss = nan  |  Batch graph avg. loss = nan  |  Steps per sec = 0.00000\r"
     ]
    },
    {
     "ename": "KeyboardInterrupt",
     "evalue": "",
     "output_type": "error",
     "traceback": [
      "\u001b[0;31m---------------------------------------------------------------------------\u001b[0m",
      "\u001b[0;31mKeyboardInterrupt\u001b[0m                         Traceback (most recent call last)",
      "\u001b[0;32m<ipython-input-22-3a32cc1e5495>\u001b[0m in \u001b[0;36m<module>\u001b[0;34m\u001b[0m\n\u001b[1;32m     11\u001b[0m         \u001b[0mmodel\u001b[0m\u001b[0;34m=\u001b[0m\u001b[0mmodel\u001b[0m\u001b[0;34m\u001b[0m\u001b[0;34m\u001b[0m\u001b[0m\n\u001b[1;32m     12\u001b[0m     )\n\u001b[0;32m---> 13\u001b[0;31m     gnn.test(    \n\u001b[0m\u001b[1;32m     14\u001b[0m     \u001b[0mmodel\u001b[0m\u001b[0;34m,\u001b[0m\u001b[0;34m\u001b[0m\u001b[0;34m\u001b[0m\u001b[0m\n\u001b[1;32m     15\u001b[0m     \u001b[0mdataset\u001b[0m\u001b[0;34m,\u001b[0m\u001b[0;34m\u001b[0m\u001b[0;34m\u001b[0m\u001b[0m\n",
      "\u001b[0;32m~/Documents/Sudoku/tf2-gnn/tf2_gnn/cli/test.py\u001b[0m in \u001b[0;36mtest\u001b[0;34m(model, dataset, log_fun, quiet, use_worker_threads)\u001b[0m\n\u001b[1;32m     19\u001b[0m     \u001b[0mlog_fun\u001b[0m\u001b[0;34m(\u001b[0m\u001b[0;34m\"== Running on test dataset\"\u001b[0m\u001b[0;34m)\u001b[0m\u001b[0;34m\u001b[0m\u001b[0;34m\u001b[0m\u001b[0m\n\u001b[1;32m     20\u001b[0m     \u001b[0mtest_data\u001b[0m \u001b[0;34m=\u001b[0m \u001b[0mdataset\u001b[0m\u001b[0;34m.\u001b[0m\u001b[0mget_tensorflow_dataset\u001b[0m\u001b[0;34m(\u001b[0m\u001b[0mDataFold\u001b[0m\u001b[0;34m.\u001b[0m\u001b[0mTEST\u001b[0m\u001b[0;34m,\u001b[0m \u001b[0muse_worker_threads\u001b[0m\u001b[0;34m=\u001b[0m\u001b[0muse_worker_threads\u001b[0m\u001b[0;34m)\u001b[0m\u001b[0;34m\u001b[0m\u001b[0;34m\u001b[0m\u001b[0m\n\u001b[0;32m---> 21\u001b[0;31m     \u001b[0m_\u001b[0m\u001b[0;34m,\u001b[0m \u001b[0m_\u001b[0m\u001b[0;34m,\u001b[0m \u001b[0mtest_results\u001b[0m \u001b[0;34m=\u001b[0m \u001b[0mmodel\u001b[0m\u001b[0;34m.\u001b[0m\u001b[0mrun_one_epoch\u001b[0m\u001b[0;34m(\u001b[0m\u001b[0mtest_data\u001b[0m\u001b[0;34m,\u001b[0m \u001b[0mtraining\u001b[0m\u001b[0;34m=\u001b[0m\u001b[0;32mFalse\u001b[0m\u001b[0;34m,\u001b[0m \u001b[0mquiet\u001b[0m\u001b[0;34m=\u001b[0m\u001b[0mquiet\u001b[0m\u001b[0;34m)\u001b[0m\u001b[0;34m\u001b[0m\u001b[0;34m\u001b[0m\u001b[0m\n\u001b[0m\u001b[1;32m     22\u001b[0m     \u001b[0mtest_metric\u001b[0m\u001b[0;34m,\u001b[0m \u001b[0mtest_metric_string\u001b[0m \u001b[0;34m=\u001b[0m \u001b[0mmodel\u001b[0m\u001b[0;34m.\u001b[0m\u001b[0mcompute_epoch_metrics\u001b[0m\u001b[0;34m(\u001b[0m\u001b[0mtest_results\u001b[0m\u001b[0;34m)\u001b[0m\u001b[0;34m\u001b[0m\u001b[0;34m\u001b[0m\u001b[0m\n\u001b[1;32m     23\u001b[0m     \u001b[0mlog_fun\u001b[0m\u001b[0;34m(\u001b[0m\u001b[0mtest_metric_string\u001b[0m\u001b[0;34m)\u001b[0m\u001b[0;34m\u001b[0m\u001b[0;34m\u001b[0m\u001b[0m\n",
      "\u001b[0;32m~/Documents/Sudoku/tf2-gnn/tf2_gnn/models/graph_task_model.py\u001b[0m in \u001b[0;36mrun_one_epoch\u001b[0;34m(self, dataset, quiet, training)\u001b[0m\n\u001b[1;32m    231\u001b[0m         \u001b[0;32mfor\u001b[0m \u001b[0mstep\u001b[0m\u001b[0;34m,\u001b[0m \u001b[0;34m(\u001b[0m\u001b[0mbatch_features\u001b[0m\u001b[0;34m,\u001b[0m \u001b[0mbatch_labels\u001b[0m\u001b[0;34m)\u001b[0m \u001b[0;32min\u001b[0m \u001b[0menumerate\u001b[0m\u001b[0;34m(\u001b[0m\u001b[0mdataset\u001b[0m\u001b[0;34m)\u001b[0m\u001b[0;34m:\u001b[0m\u001b[0;34m\u001b[0m\u001b[0;34m\u001b[0m\u001b[0m\n\u001b[1;32m    232\u001b[0m             \u001b[0;32mwith\u001b[0m \u001b[0mtf\u001b[0m\u001b[0;34m.\u001b[0m\u001b[0mGradientTape\u001b[0m\u001b[0;34m(\u001b[0m\u001b[0;34m)\u001b[0m \u001b[0;32mas\u001b[0m \u001b[0mtape\u001b[0m\u001b[0;34m:\u001b[0m\u001b[0;34m\u001b[0m\u001b[0;34m\u001b[0m\u001b[0m\n\u001b[0;32m--> 233\u001b[0;31m                 \u001b[0mtask_output\u001b[0m \u001b[0;34m=\u001b[0m \u001b[0mself\u001b[0m\u001b[0;34m(\u001b[0m\u001b[0mbatch_features\u001b[0m\u001b[0;34m,\u001b[0m \u001b[0mtraining\u001b[0m\u001b[0;34m=\u001b[0m\u001b[0mtraining\u001b[0m\u001b[0;34m)\u001b[0m\u001b[0;34m\u001b[0m\u001b[0;34m\u001b[0m\u001b[0m\n\u001b[0m\u001b[1;32m    234\u001b[0m                 \u001b[0mtask_metrics\u001b[0m \u001b[0;34m=\u001b[0m \u001b[0mself\u001b[0m\u001b[0;34m.\u001b[0m\u001b[0mcompute_task_metrics\u001b[0m\u001b[0;34m(\u001b[0m\u001b[0mbatch_features\u001b[0m\u001b[0;34m,\u001b[0m \u001b[0mtask_output\u001b[0m\u001b[0;34m,\u001b[0m \u001b[0mbatch_labels\u001b[0m\u001b[0;34m)\u001b[0m\u001b[0;34m\u001b[0m\u001b[0;34m\u001b[0m\u001b[0m\n\u001b[1;32m    235\u001b[0m             \u001b[0mtotal_loss\u001b[0m \u001b[0;34m+=\u001b[0m \u001b[0mtask_metrics\u001b[0m\u001b[0;34m[\u001b[0m\u001b[0;34m\"loss\"\u001b[0m\u001b[0;34m]\u001b[0m\u001b[0;34m\u001b[0m\u001b[0;34m\u001b[0m\u001b[0m\n",
      "\u001b[0;32m~/miniconda3/envs/rrn_tf2/lib/python3.8/site-packages/tensorflow/python/keras/engine/base_layer.py\u001b[0m in \u001b[0;36m__call__\u001b[0;34m(self, *args, **kwargs)\u001b[0m\n\u001b[1;32m    966\u001b[0m           with base_layer_utils.autocast_context_manager(\n\u001b[1;32m    967\u001b[0m               self._compute_dtype):\n\u001b[0;32m--> 968\u001b[0;31m             \u001b[0moutputs\u001b[0m \u001b[0;34m=\u001b[0m \u001b[0mself\u001b[0m\u001b[0;34m.\u001b[0m\u001b[0mcall\u001b[0m\u001b[0;34m(\u001b[0m\u001b[0mcast_inputs\u001b[0m\u001b[0;34m,\u001b[0m \u001b[0;34m*\u001b[0m\u001b[0margs\u001b[0m\u001b[0;34m,\u001b[0m \u001b[0;34m**\u001b[0m\u001b[0mkwargs\u001b[0m\u001b[0;34m)\u001b[0m\u001b[0;34m\u001b[0m\u001b[0;34m\u001b[0m\u001b[0m\n\u001b[0m\u001b[1;32m    969\u001b[0m           \u001b[0mself\u001b[0m\u001b[0;34m.\u001b[0m\u001b[0m_handle_activity_regularization\u001b[0m\u001b[0;34m(\u001b[0m\u001b[0minputs\u001b[0m\u001b[0;34m,\u001b[0m \u001b[0moutputs\u001b[0m\u001b[0;34m)\u001b[0m\u001b[0;34m\u001b[0m\u001b[0;34m\u001b[0m\u001b[0m\n\u001b[1;32m    970\u001b[0m           \u001b[0mself\u001b[0m\u001b[0;34m.\u001b[0m\u001b[0m_set_mask_metadata\u001b[0m\u001b[0;34m(\u001b[0m\u001b[0minputs\u001b[0m\u001b[0;34m,\u001b[0m \u001b[0moutputs\u001b[0m\u001b[0;34m,\u001b[0m \u001b[0minput_masks\u001b[0m\u001b[0;34m)\u001b[0m\u001b[0;34m\u001b[0m\u001b[0;34m\u001b[0m\u001b[0m\n",
      "\u001b[0;32m~/Documents/Sudoku/tf2-gnn/tf2_gnn/models/graph_task_model.py\u001b[0m in \u001b[0;36mcall\u001b[0;34m(self, inputs, training)\u001b[0m\n\u001b[1;32m    109\u001b[0m \u001b[0;34m\u001b[0m\u001b[0m\n\u001b[1;32m    110\u001b[0m     \u001b[0;32mdef\u001b[0m \u001b[0mcall\u001b[0m\u001b[0;34m(\u001b[0m\u001b[0mself\u001b[0m\u001b[0;34m,\u001b[0m \u001b[0minputs\u001b[0m\u001b[0;34m,\u001b[0m \u001b[0mtraining\u001b[0m\u001b[0;34m:\u001b[0m \u001b[0mbool\u001b[0m\u001b[0;34m)\u001b[0m\u001b[0;34m:\u001b[0m\u001b[0;34m\u001b[0m\u001b[0;34m\u001b[0m\u001b[0m\n\u001b[0;32m--> 111\u001b[0;31m         \u001b[0mfinal_node_representations\u001b[0m \u001b[0;34m=\u001b[0m \u001b[0mself\u001b[0m\u001b[0;34m.\u001b[0m\u001b[0mcompute_final_node_representations\u001b[0m\u001b[0;34m(\u001b[0m\u001b[0minputs\u001b[0m\u001b[0;34m,\u001b[0m \u001b[0mtraining\u001b[0m\u001b[0;34m)\u001b[0m\u001b[0;34m\u001b[0m\u001b[0;34m\u001b[0m\u001b[0m\n\u001b[0m\u001b[1;32m    112\u001b[0m         \u001b[0;32mreturn\u001b[0m \u001b[0mself\u001b[0m\u001b[0;34m.\u001b[0m\u001b[0mcompute_task_output\u001b[0m\u001b[0;34m(\u001b[0m\u001b[0minputs\u001b[0m\u001b[0;34m,\u001b[0m \u001b[0mfinal_node_representations\u001b[0m\u001b[0;34m,\u001b[0m \u001b[0mtraining\u001b[0m\u001b[0;34m)\u001b[0m\u001b[0;34m\u001b[0m\u001b[0;34m\u001b[0m\u001b[0m\n\u001b[1;32m    113\u001b[0m \u001b[0;34m\u001b[0m\u001b[0m\n",
      "\u001b[0;32m~/Documents/Sudoku/tf2-gnn/tf2_gnn/models/graph_task_model.py\u001b[0m in \u001b[0;36mcompute_final_node_representations\u001b[0;34m(self, inputs, training)\u001b[0m\n\u001b[1;32m    101\u001b[0m         )\n\u001b[1;32m    102\u001b[0m \u001b[0;34m\u001b[0m\u001b[0m\n\u001b[0;32m--> 103\u001b[0;31m         gnn_output = self._gnn(\n\u001b[0m\u001b[1;32m    104\u001b[0m             \u001b[0mgnn_input\u001b[0m\u001b[0;34m,\u001b[0m\u001b[0;34m\u001b[0m\u001b[0;34m\u001b[0m\u001b[0m\n\u001b[1;32m    105\u001b[0m             \u001b[0mtraining\u001b[0m\u001b[0;34m=\u001b[0m\u001b[0mtraining\u001b[0m\u001b[0;34m,\u001b[0m\u001b[0;34m\u001b[0m\u001b[0;34m\u001b[0m\u001b[0m\n",
      "\u001b[0;32m~/miniconda3/envs/rrn_tf2/lib/python3.8/site-packages/tensorflow/python/keras/engine/base_layer.py\u001b[0m in \u001b[0;36m__call__\u001b[0;34m(self, *args, **kwargs)\u001b[0m\n\u001b[1;32m    966\u001b[0m           with base_layer_utils.autocast_context_manager(\n\u001b[1;32m    967\u001b[0m               self._compute_dtype):\n\u001b[0;32m--> 968\u001b[0;31m             \u001b[0moutputs\u001b[0m \u001b[0;34m=\u001b[0m \u001b[0mself\u001b[0m\u001b[0;34m.\u001b[0m\u001b[0mcall\u001b[0m\u001b[0;34m(\u001b[0m\u001b[0mcast_inputs\u001b[0m\u001b[0;34m,\u001b[0m \u001b[0;34m*\u001b[0m\u001b[0margs\u001b[0m\u001b[0;34m,\u001b[0m \u001b[0;34m**\u001b[0m\u001b[0mkwargs\u001b[0m\u001b[0;34m)\u001b[0m\u001b[0;34m\u001b[0m\u001b[0;34m\u001b[0m\u001b[0m\n\u001b[0m\u001b[1;32m    969\u001b[0m           \u001b[0mself\u001b[0m\u001b[0;34m.\u001b[0m\u001b[0m_handle_activity_regularization\u001b[0m\u001b[0;34m(\u001b[0m\u001b[0minputs\u001b[0m\u001b[0;34m,\u001b[0m \u001b[0moutputs\u001b[0m\u001b[0;34m)\u001b[0m\u001b[0;34m\u001b[0m\u001b[0;34m\u001b[0m\u001b[0m\n\u001b[1;32m    970\u001b[0m           \u001b[0mself\u001b[0m\u001b[0;34m.\u001b[0m\u001b[0m_set_mask_metadata\u001b[0m\u001b[0;34m(\u001b[0m\u001b[0minputs\u001b[0m\u001b[0;34m,\u001b[0m \u001b[0moutputs\u001b[0m\u001b[0;34m,\u001b[0m \u001b[0minput_masks\u001b[0m\u001b[0;34m)\u001b[0m\u001b[0;34m\u001b[0m\u001b[0;34m\u001b[0m\u001b[0m\n",
      "\u001b[0;32m~/Documents/Sudoku/tf2-gnn/tf2_gnn/layers/gnn.py\u001b[0m in \u001b[0;36mcall\u001b[0;34m(self, inputs, training, return_all_representations)\u001b[0m\n\u001b[1;32m    273\u001b[0m             or layer norm applied).\n\u001b[1;32m    274\u001b[0m         \"\"\"\n\u001b[0;32m--> 275\u001b[0;31m         \u001b[0mcur_node_representations\u001b[0m\u001b[0;34m,\u001b[0m \u001b[0mall_node_representations\u001b[0m \u001b[0;34m=\u001b[0m \u001b[0mself\u001b[0m\u001b[0;34m.\u001b[0m\u001b[0m_internal_call\u001b[0m\u001b[0;34m(\u001b[0m\u001b[0minputs\u001b[0m\u001b[0;34m,\u001b[0m \u001b[0mtraining\u001b[0m\u001b[0;34m)\u001b[0m\u001b[0;34m\u001b[0m\u001b[0;34m\u001b[0m\u001b[0m\n\u001b[0m\u001b[1;32m    276\u001b[0m \u001b[0;34m\u001b[0m\u001b[0m\n\u001b[1;32m    277\u001b[0m         \u001b[0;32mif\u001b[0m \u001b[0mreturn_all_representations\u001b[0m\u001b[0;34m:\u001b[0m\u001b[0;34m\u001b[0m\u001b[0;34m\u001b[0m\u001b[0m\n",
      "\u001b[0;32m~/miniconda3/envs/rrn_tf2/lib/python3.8/site-packages/tensorflow/python/eager/def_function.py\u001b[0m in \u001b[0;36m__call__\u001b[0;34m(self, *args, **kwds)\u001b[0m\n\u001b[1;32m    578\u001b[0m         \u001b[0mxla_context\u001b[0m\u001b[0;34m.\u001b[0m\u001b[0mExit\u001b[0m\u001b[0;34m(\u001b[0m\u001b[0;34m)\u001b[0m\u001b[0;34m\u001b[0m\u001b[0;34m\u001b[0m\u001b[0m\n\u001b[1;32m    579\u001b[0m     \u001b[0;32melse\u001b[0m\u001b[0;34m:\u001b[0m\u001b[0;34m\u001b[0m\u001b[0;34m\u001b[0m\u001b[0m\n\u001b[0;32m--> 580\u001b[0;31m       \u001b[0mresult\u001b[0m \u001b[0;34m=\u001b[0m \u001b[0mself\u001b[0m\u001b[0;34m.\u001b[0m\u001b[0m_call\u001b[0m\u001b[0;34m(\u001b[0m\u001b[0;34m*\u001b[0m\u001b[0margs\u001b[0m\u001b[0;34m,\u001b[0m \u001b[0;34m**\u001b[0m\u001b[0mkwds\u001b[0m\u001b[0;34m)\u001b[0m\u001b[0;34m\u001b[0m\u001b[0;34m\u001b[0m\u001b[0m\n\u001b[0m\u001b[1;32m    581\u001b[0m \u001b[0;34m\u001b[0m\u001b[0m\n\u001b[1;32m    582\u001b[0m     \u001b[0;32mif\u001b[0m \u001b[0mtracing_count\u001b[0m \u001b[0;34m==\u001b[0m \u001b[0mself\u001b[0m\u001b[0;34m.\u001b[0m\u001b[0m_get_tracing_count\u001b[0m\u001b[0;34m(\u001b[0m\u001b[0;34m)\u001b[0m\u001b[0;34m:\u001b[0m\u001b[0;34m\u001b[0m\u001b[0;34m\u001b[0m\u001b[0m\n",
      "\u001b[0;32m~/miniconda3/envs/rrn_tf2/lib/python3.8/site-packages/tensorflow/python/eager/def_function.py\u001b[0m in \u001b[0;36m_call\u001b[0;34m(self, *args, **kwds)\u001b[0m\n\u001b[1;32m    616\u001b[0m       \u001b[0;31m# In this case we have not created variables on the first call. So we can\u001b[0m\u001b[0;34m\u001b[0m\u001b[0;34m\u001b[0m\u001b[0;34m\u001b[0m\u001b[0m\n\u001b[1;32m    617\u001b[0m       \u001b[0;31m# run the first trace but we should fail if variables are created.\u001b[0m\u001b[0;34m\u001b[0m\u001b[0;34m\u001b[0m\u001b[0;34m\u001b[0m\u001b[0m\n\u001b[0;32m--> 618\u001b[0;31m       \u001b[0mresults\u001b[0m \u001b[0;34m=\u001b[0m \u001b[0mself\u001b[0m\u001b[0;34m.\u001b[0m\u001b[0m_stateful_fn\u001b[0m\u001b[0;34m(\u001b[0m\u001b[0;34m*\u001b[0m\u001b[0margs\u001b[0m\u001b[0;34m,\u001b[0m \u001b[0;34m**\u001b[0m\u001b[0mkwds\u001b[0m\u001b[0;34m)\u001b[0m\u001b[0;34m\u001b[0m\u001b[0;34m\u001b[0m\u001b[0m\n\u001b[0m\u001b[1;32m    619\u001b[0m       \u001b[0;32mif\u001b[0m \u001b[0mself\u001b[0m\u001b[0;34m.\u001b[0m\u001b[0m_created_variables\u001b[0m\u001b[0;34m:\u001b[0m\u001b[0;34m\u001b[0m\u001b[0;34m\u001b[0m\u001b[0m\n\u001b[1;32m    620\u001b[0m         raise ValueError(\"Creating variables on a non-first call to a function\"\n",
      "\u001b[0;32m~/miniconda3/envs/rrn_tf2/lib/python3.8/site-packages/tensorflow/python/eager/function.py\u001b[0m in \u001b[0;36m__call__\u001b[0;34m(self, *args, **kwargs)\u001b[0m\n\u001b[1;32m   2418\u001b[0m     \u001b[0;32mwith\u001b[0m \u001b[0mself\u001b[0m\u001b[0;34m.\u001b[0m\u001b[0m_lock\u001b[0m\u001b[0;34m:\u001b[0m\u001b[0;34m\u001b[0m\u001b[0;34m\u001b[0m\u001b[0m\n\u001b[1;32m   2419\u001b[0m       \u001b[0mgraph_function\u001b[0m\u001b[0;34m,\u001b[0m \u001b[0margs\u001b[0m\u001b[0;34m,\u001b[0m \u001b[0mkwargs\u001b[0m \u001b[0;34m=\u001b[0m \u001b[0mself\u001b[0m\u001b[0;34m.\u001b[0m\u001b[0m_maybe_define_function\u001b[0m\u001b[0;34m(\u001b[0m\u001b[0margs\u001b[0m\u001b[0;34m,\u001b[0m \u001b[0mkwargs\u001b[0m\u001b[0;34m)\u001b[0m\u001b[0;34m\u001b[0m\u001b[0;34m\u001b[0m\u001b[0m\n\u001b[0;32m-> 2420\u001b[0;31m     \u001b[0;32mreturn\u001b[0m \u001b[0mgraph_function\u001b[0m\u001b[0;34m.\u001b[0m\u001b[0m_filtered_call\u001b[0m\u001b[0;34m(\u001b[0m\u001b[0margs\u001b[0m\u001b[0;34m,\u001b[0m \u001b[0mkwargs\u001b[0m\u001b[0;34m)\u001b[0m  \u001b[0;31m# pylint: disable=protected-access\u001b[0m\u001b[0;34m\u001b[0m\u001b[0;34m\u001b[0m\u001b[0m\n\u001b[0m\u001b[1;32m   2421\u001b[0m \u001b[0;34m\u001b[0m\u001b[0m\n\u001b[1;32m   2422\u001b[0m   \u001b[0;34m@\u001b[0m\u001b[0mproperty\u001b[0m\u001b[0;34m\u001b[0m\u001b[0;34m\u001b[0m\u001b[0m\n",
      "\u001b[0;32m~/miniconda3/envs/rrn_tf2/lib/python3.8/site-packages/tensorflow/python/eager/function.py\u001b[0m in \u001b[0;36m_filtered_call\u001b[0;34m(self, args, kwargs)\u001b[0m\n\u001b[1;32m   1659\u001b[0m       \u001b[0;31m`\u001b[0m\u001b[0margs\u001b[0m\u001b[0;31m`\u001b[0m \u001b[0;32mand\u001b[0m\u001b[0;31m \u001b[0m\u001b[0;31m`\u001b[0m\u001b[0mkwargs\u001b[0m\u001b[0;31m`\u001b[0m\u001b[0;34m.\u001b[0m\u001b[0;34m\u001b[0m\u001b[0;34m\u001b[0m\u001b[0m\n\u001b[1;32m   1660\u001b[0m     \"\"\"\n\u001b[0;32m-> 1661\u001b[0;31m     return self._call_flat(\n\u001b[0m\u001b[1;32m   1662\u001b[0m         (t for t in nest.flatten((args, kwargs), expand_composites=True)\n\u001b[1;32m   1663\u001b[0m          if isinstance(t, (ops.Tensor,\n",
      "\u001b[0;32m~/miniconda3/envs/rrn_tf2/lib/python3.8/site-packages/tensorflow/python/eager/function.py\u001b[0m in \u001b[0;36m_call_flat\u001b[0;34m(self, args, captured_inputs, cancellation_manager)\u001b[0m\n\u001b[1;32m   1751\u001b[0m     \u001b[0mforward_function\u001b[0m\u001b[0;34m,\u001b[0m \u001b[0margs_with_tangents\u001b[0m \u001b[0;34m=\u001b[0m \u001b[0mforward_backward\u001b[0m\u001b[0;34m.\u001b[0m\u001b[0mforward\u001b[0m\u001b[0;34m(\u001b[0m\u001b[0;34m)\u001b[0m\u001b[0;34m\u001b[0m\u001b[0;34m\u001b[0m\u001b[0m\n\u001b[1;32m   1752\u001b[0m     \u001b[0;32mif\u001b[0m \u001b[0mexecuting_eagerly\u001b[0m\u001b[0;34m:\u001b[0m\u001b[0;34m\u001b[0m\u001b[0;34m\u001b[0m\u001b[0m\n\u001b[0;32m-> 1753\u001b[0;31m       flat_outputs = forward_function.call(\n\u001b[0m\u001b[1;32m   1754\u001b[0m           \u001b[0mctx\u001b[0m\u001b[0;34m,\u001b[0m \u001b[0margs_with_tangents\u001b[0m\u001b[0;34m,\u001b[0m\u001b[0;34m\u001b[0m\u001b[0;34m\u001b[0m\u001b[0m\n\u001b[1;32m   1755\u001b[0m           cancellation_manager=cancellation_manager)\n",
      "\u001b[0;32m~/miniconda3/envs/rrn_tf2/lib/python3.8/site-packages/tensorflow/python/eager/function.py\u001b[0m in \u001b[0;36mcall\u001b[0;34m(self, ctx, args, cancellation_manager)\u001b[0m\n\u001b[1;32m    591\u001b[0m       \u001b[0;32mwith\u001b[0m \u001b[0m_InterpolateFunctionError\u001b[0m\u001b[0;34m(\u001b[0m\u001b[0mself\u001b[0m\u001b[0;34m)\u001b[0m\u001b[0;34m:\u001b[0m\u001b[0;34m\u001b[0m\u001b[0;34m\u001b[0m\u001b[0m\n\u001b[1;32m    592\u001b[0m         \u001b[0;32mif\u001b[0m \u001b[0mcancellation_manager\u001b[0m \u001b[0;32mis\u001b[0m \u001b[0;32mNone\u001b[0m\u001b[0;34m:\u001b[0m\u001b[0;34m\u001b[0m\u001b[0;34m\u001b[0m\u001b[0m\n\u001b[0;32m--> 593\u001b[0;31m           outputs = execute.execute(\n\u001b[0m\u001b[1;32m    594\u001b[0m               \u001b[0mstr\u001b[0m\u001b[0;34m(\u001b[0m\u001b[0mself\u001b[0m\u001b[0;34m.\u001b[0m\u001b[0msignature\u001b[0m\u001b[0;34m.\u001b[0m\u001b[0mname\u001b[0m\u001b[0;34m)\u001b[0m\u001b[0;34m,\u001b[0m\u001b[0;34m\u001b[0m\u001b[0;34m\u001b[0m\u001b[0m\n\u001b[1;32m    595\u001b[0m               \u001b[0mnum_outputs\u001b[0m\u001b[0;34m=\u001b[0m\u001b[0mself\u001b[0m\u001b[0;34m.\u001b[0m\u001b[0m_num_outputs\u001b[0m\u001b[0;34m,\u001b[0m\u001b[0;34m\u001b[0m\u001b[0;34m\u001b[0m\u001b[0m\n",
      "\u001b[0;32m~/miniconda3/envs/rrn_tf2/lib/python3.8/site-packages/tensorflow/python/eager/execute.py\u001b[0m in \u001b[0;36mquick_execute\u001b[0;34m(op_name, num_outputs, inputs, attrs, ctx, name)\u001b[0m\n\u001b[1;32m     57\u001b[0m   \u001b[0;32mtry\u001b[0m\u001b[0;34m:\u001b[0m\u001b[0;34m\u001b[0m\u001b[0;34m\u001b[0m\u001b[0m\n\u001b[1;32m     58\u001b[0m     \u001b[0mctx\u001b[0m\u001b[0;34m.\u001b[0m\u001b[0mensure_initialized\u001b[0m\u001b[0;34m(\u001b[0m\u001b[0;34m)\u001b[0m\u001b[0;34m\u001b[0m\u001b[0;34m\u001b[0m\u001b[0m\n\u001b[0;32m---> 59\u001b[0;31m     tensors = pywrap_tfe.TFE_Py_Execute(ctx._handle, device_name, op_name,\n\u001b[0m\u001b[1;32m     60\u001b[0m                                         inputs, attrs, num_outputs)\n\u001b[1;32m     61\u001b[0m   \u001b[0;32mexcept\u001b[0m \u001b[0mcore\u001b[0m\u001b[0;34m.\u001b[0m\u001b[0m_NotOkStatusException\u001b[0m \u001b[0;32mas\u001b[0m \u001b[0me\u001b[0m\u001b[0;34m:\u001b[0m\u001b[0;34m\u001b[0m\u001b[0;34m\u001b[0m\u001b[0m\n",
      "\u001b[0;31mKeyboardInterrupt\u001b[0m: "
     ]
    }
   ],
   "source": [
    "for i in [4,8,16,32,64,128,256]:\n",
    "    print(f\"\\n{i}\")\n",
    "    params['gnn_num_layers']=i\n",
    "    model = gnn.NodeMulticlassTask(params,dataset)\n",
    "    # Build model\n",
    "    input_shapes = dataset.get_batch_tf_data_description().batch_features_shapes\n",
    "    model.build(input_shapes)\n",
    "    # Load\n",
    "    gnn.load_weights_verbosely(\n",
    "        save_file='/Users/personal/Documents/Sudoku/tf2-gnn/best_models/colab_best.hdf5',\n",
    "        model=model\n",
    "    )\n",
    "    gnn.test(    \n",
    "    model, \n",
    "    dataset,    \n",
    "    log_fun=log_info,\n",
    "    use_worker_threads=False,\n",
    "    )"
   ]
  },
  {
   "cell_type": "markdown",
   "metadata": {},
   "source": [
    "# FiLM Model"
   ]
  },
  {
   "cell_type": "code",
   "execution_count": 21,
   "metadata": {},
   "outputs": [
    {
     "data": {
      "text/plain": [
       "{'gnn_aggregation_function': 'sum',\n",
       " 'gnn_message_activation_function': 'gelu',\n",
       " 'gnn_hidden_dim': 96,\n",
       " 'gnn_use_target_state_as_input': False,\n",
       " 'gnn_normalize_by_num_incoming': False,\n",
       " 'gnn_num_edge_MLP_hidden_layers': 3,\n",
       " 'gnn_film_parameter_MLP_hidden_layers': [],\n",
       " 'gnn_message_calculation_class': 'GNN_FiLM',\n",
       " 'gnn_initial_node_representation_activation': 'tanh',\n",
       " 'gnn_dense_intermediate_layer_activation': 'tanh',\n",
       " 'gnn_num_layers': 16,\n",
       " 'gnn_dense_every_num_layers': -1,\n",
       " 'gnn_residual_every_num_layers': 100000.0,\n",
       " 'gnn_use_inter_layer_layernorm': False,\n",
       " 'gnn_layer_input_dropout_rate': 0.0,\n",
       " 'gnn_global_exchange_mode': 'gru',\n",
       " 'gnn_global_exchange_every_num_layers': 100000.0,\n",
       " 'gnn_global_exchange_weighting_fun': 'softmax',\n",
       " 'gnn_global_exchange_num_heads': 4,\n",
       " 'gnn_global_exchange_dropout_rate': 0.2,\n",
       " 'gnn_share_weights_between_mlps': True,\n",
       " 'optimizer': 'Adam',\n",
       " 'learning_rate': 0.001,\n",
       " 'learning_rate_decay': 0.98,\n",
       " 'momentum': 0.85,\n",
       " 'gradient_clip_value': None,\n",
       " 'gradient_clip_global_norm': None,\n",
       " 'use_intermediate_gnn_results': True,\n",
       " 'loss_at_every_layer': True}"
      ]
     },
     "execution_count": 21,
     "metadata": {},
     "output_type": "execute_result"
    }
   ],
   "source": [
    "params = gnn.models.NodeMulticlassTask.get_default_hyperparameters('GNN_FiLM')\n",
    "params['gnn_hidden_dim'] = 96\n",
    "params['gnn_num_edge_MLP_hidden_layers'] = 3\n",
    "params['gnn_num_layers'] = 16\n",
    "params['gnn_share_weights_between_mlps'] = True\n",
    "params[\"gnn_message_activation_function\"] = \"gelu\"\n",
    "\n",
    "params['gnn_dense_every_num_layers'] = -1\n",
    "params['gnn_residual_every_num_layers'] = 1e5\n",
    "params['gnn_global_exchange_every_num_layers'] = 1e5\n",
    "params['use_intermediate_gnn_results'] = True\n",
    "params['loss_at_every_layer'] = True\n",
    "params"
   ]
  },
  {
   "cell_type": "code",
   "execution_count": 22,
   "metadata": {},
   "outputs": [],
   "source": [
    "model = gnn.NodeMulticlassTask(params,dataset)"
   ]
  },
  {
   "cell_type": "code",
   "execution_count": 23,
   "metadata": {},
   "outputs": [
    {
     "name": "stdout",
     "output_type": "stream",
     "text": [
      "(96, 9) NodeMulticlassTask/projection_to_classes/kernel:0\n",
      "(9,) NodeMulticlassTask/projection_to_classes/bias:0\n",
      "(96, 96) GNN_FiLM_GNN/Layer_0/MessagePassing/edge_type_0/MLP_dense_layer_0/kernel:0\n",
      "(96, 96) GNN_FiLM_GNN/Layer_0/MessagePassing/edge_type_0/MLP_dense_layer_1/kernel:0\n",
      "(96, 96) GNN_FiLM_GNN/Layer_0/MessagePassing/edge_type_0/MLP_dense_layer_2/kernel:0\n",
      "(96, 96) GNN_FiLM_GNN/Layer_0/MessagePassing/edge_type_0/MLP_final_layer/kernel:0\n",
      "(96, 96) GNN_FiLM_GNN/Layer_0/MessagePassing/edge_type_1/MLP_dense_layer_0/kernel:0\n",
      "(96, 96) GNN_FiLM_GNN/Layer_0/MessagePassing/edge_type_1/MLP_dense_layer_1/kernel:0\n",
      "(96, 96) GNN_FiLM_GNN/Layer_0/MessagePassing/edge_type_1/MLP_dense_layer_2/kernel:0\n",
      "(96, 96) GNN_FiLM_GNN/Layer_0/MessagePassing/edge_type_1/MLP_final_layer/kernel:0\n",
      "(96, 192) GNN_FiLM_GNN/Layer_0/MessagePassing/edge_type_0-FiLM/MLP_final_layer/kernel:0\n",
      "(96, 192) GNN_FiLM_GNN/Layer_0/MessagePassing/edge_type_1-FiLM/MLP_final_layer/kernel:0\n",
      "(10, 96) GNN_FiLM_GNN/gnn_initial_node_projection/kernel:0\n"
     ]
    }
   ],
   "source": [
    "# Build model\n",
    "input_shapes = dataset.get_batch_tf_data_description().batch_features_shapes\n",
    "model.build(input_shapes)\n",
    "\n",
    "# Inspect model\n",
    "# ly = model.layers[1]\n",
    "for ly in model.layers:\n",
    "    for v,w in zip(ly.variables, ly.get_weights()):\n",
    "        print(w.shape, v.name)"
   ]
  },
  {
   "cell_type": "code",
   "execution_count": 24,
   "metadata": {},
   "outputs": [
    {
     "name": "stdout",
     "output_type": "stream",
     "text": [
      "Model: \"node_multiclass_task_1\"\n",
      "_________________________________________________________________\n",
      "Layer (type)                 Output Shape              Param #   \n",
      "=================================================================\n",
      "dense_2 (Dense)              multiple                  873       \n",
      "_________________________________________________________________\n",
      "gnn_1 (GNN)                  multiple                  111552    \n",
      "=================================================================\n",
      "Total params: 112,425\n",
      "Trainable params: 112,425\n",
      "Non-trainable params: 0\n",
      "_________________________________________________________________\n"
     ]
    }
   ],
   "source": [
    "model.summary()"
   ]
  },
  {
   "cell_type": "code",
   "execution_count": null,
   "metadata": {},
   "outputs": [],
   "source": []
  }
 ],
 "metadata": {
  "accelerator": "GPU",
  "colab": {
   "collapsed_sections": [],
   "name": "sudoku_train.ipynb",
   "provenance": [],
   "toc_visible": true
  },
  "kernelspec": {
   "display_name": "Python 3",
   "language": "python",
   "name": "python3"
  },
  "language_info": {
   "codemirror_mode": {
    "name": "ipython",
    "version": 3
   },
   "file_extension": ".py",
   "mimetype": "text/x-python",
   "name": "python",
   "nbconvert_exporter": "python",
   "pygments_lexer": "ipython3",
   "version": "3.8.3"
  }
 },
 "nbformat": 4,
 "nbformat_minor": 1
}
